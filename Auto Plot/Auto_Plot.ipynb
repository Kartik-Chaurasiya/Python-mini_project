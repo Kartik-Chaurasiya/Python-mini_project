{
  "nbformat": 4,
  "nbformat_minor": 0,
  "metadata": {
    "colab": {
      "name": "Auto Plot.ipynb",
      "provenance": [],
      "collapsed_sections": [],
      "authorship_tag": "ABX9TyMecWGsc7Asv4lqTGz+/U95",
      "include_colab_link": true
    },
    "kernelspec": {
      "name": "python3",
      "display_name": "Python 3"
    }
  },
  "cells": [
    {
      "cell_type": "markdown",
      "metadata": {
        "id": "view-in-github",
        "colab_type": "text"
      },
      "source": [
        "<a href=\"https://colab.research.google.com/github/Syntax-code/mini_project/blob/master/Auto%20Plot/Auto_Plot.ipynb\" target=\"_parent\"><img src=\"https://colab.research.google.com/assets/colab-badge.svg\" alt=\"Open In Colab\"/></a>"
      ]
    },
    {
      "cell_type": "code",
      "metadata": {
        "id": "GQ0Up9ZDUwmH"
      },
      "source": [
        "import pandas as pd\r\n",
        "import matplotlib.pyplot as plt\r\n",
        "import numpy as np\r\n",
        "import random"
      ],
      "execution_count": 1,
      "outputs": []
    },
    {
      "cell_type": "code",
      "metadata": {
        "id": "jY4CvU7sXmMT"
      },
      "source": [
        "def random_data():\r\n",
        "  rows = input(\"Enter the no of Rows\")\r\n",
        "  rows = int(rows)\r\n",
        "  data = np.random.rand(rows, 5)\r\n",
        "  df = pd.DataFrame(data, columns = ['A', 'B', 'C', 'D', 'E'])\r\n",
        "  print(df)"
      ],
      "execution_count": 29,
      "outputs": []
    },
    {
      "cell_type": "code",
      "metadata": {
        "id": "XTdxUrLTXstK"
      },
      "source": [
        "def custom_data():\r\n",
        "  rows = input(\"Enter the no of Rows\")\r\n",
        "  rows = int(rows)\r\n",
        "  data = []\r\n",
        "  for x in range(rows):\r\n",
        "    a = []\r\n",
        "    for y in range(5):\r\n",
        "      number = input(\"Enter the no\")\r\n",
        "      a.append(int(number))\r\n",
        "    data.append(a)\r\n",
        "  df = pd.DataFrame(data, columns = ['A', 'B', 'C', 'D', 'E'])\r\n",
        "  print(df)"
      ],
      "execution_count": 37,
      "outputs": []
    },
    {
      "cell_type": "code",
      "metadata": {
        "id": "1V3CFPeQXxE0"
      },
      "source": [
        "def file_input():\r\n",
        "  file_name = input(\"Enter File name\")\r\n",
        "  df = pd.read_csv(file_name)\r\n",
        "  print(df)"
      ],
      "execution_count": 5,
      "outputs": []
    },
    {
      "cell_type": "code",
      "metadata": {
        "id": "Lx1-mDvfXbi8"
      },
      "source": [
        "def create_data():\r\n",
        "  print(\"Input the Data method for data Genration/Import\")\r\n",
        "  print(\"1 : Random Data\")\r\n",
        "  print(\"2 : Custom Data\")\r\n",
        "  print(\"3 : File Input\")\r\n",
        "  generation_type = input(\"Enter your choice\")\r\n",
        "  generation_type = int(generation_type)\r\n",
        "  if(generation_type == 1):\r\n",
        "    random_data()\r\n",
        "  elif(generation_type == 2):\r\n",
        "    custom_data()\r\n",
        "  elif(generation_type == 3):\r\n",
        "    file_input()"
      ],
      "execution_count": 6,
      "outputs": []
    },
    {
      "cell_type": "code",
      "metadata": {
        "colab": {
          "base_uri": "https://localhost:8080/"
        },
        "id": "ch3FUJYyaIr6",
        "outputId": "a14278fc-8b54-4b80-c0a8-95a2b12887ef"
      },
      "source": [
        "create_data()"
      ],
      "execution_count": 38,
      "outputs": [
        {
          "output_type": "stream",
          "text": [
            "Input the Data method for data Genration/Import\n",
            "1 : Random Data\n",
            "2 : Custom Data\n",
            "3 : File Input\n",
            "Enter your choice2\n",
            "Enter the no of Rows2\n",
            "Enter the no1\n",
            "Enter the no1\n",
            "Enter the no1\n",
            "Enter the no1\n",
            "Enter the no1\n",
            "Enter the no1\n",
            "Enter the no1\n",
            "Enter the no1\n",
            "Enter the no1\n",
            "Enter the no1\n",
            "   A  B  C  D  E\n",
            "0  1  1  1  1  1\n",
            "1  1  1  1  1  1\n"
          ],
          "name": "stdout"
        }
      ]
    }
  ]
}