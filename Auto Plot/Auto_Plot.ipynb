{
  "nbformat": 4,
  "nbformat_minor": 0,
  "metadata": {
    "colab": {
      "name": "Auto Plot.ipynb",
      "provenance": [],
      "collapsed_sections": [],
      "authorship_tag": "ABX9TyNMEqENDkf1vzIQsFVB8BU0",
      "include_colab_link": true
    },
    "kernelspec": {
      "name": "python3",
      "display_name": "Python 3"
    }
  },
  "cells": [
    {
      "cell_type": "markdown",
      "metadata": {
        "id": "view-in-github",
        "colab_type": "text"
      },
      "source": [
        "<a href=\"https://colab.research.google.com/github/Syntax-code/mini_project/blob/master/Auto%20Plot/Auto_Plot.ipynb\" target=\"_parent\"><img src=\"https://colab.research.google.com/assets/colab-badge.svg\" alt=\"Open In Colab\"/></a>"
      ]
    },
    {
      "cell_type": "code",
      "metadata": {
        "id": "GQ0Up9ZDUwmH"
      },
      "source": [
        "import pandas as pd\r\n",
        "import matplotlib.pyplot as plt\r\n",
        "import numpy as np\r\n",
        "import random"
      ],
      "execution_count": 1,
      "outputs": []
    },
    {
      "cell_type": "code",
      "metadata": {
        "id": "jY4CvU7sXmMT"
      },
      "source": [
        "def random_data():\r\n",
        "  rows, cols = input(\"Enter the no of Rows and Columns\").split()\r\n",
        "  rows = int(rows)\r\n",
        "  cols = int(columns)\r\n",
        "  df = pd.dataframe(np.random.randint(0, rows, size = (rows, cols)), columns = )"
      ],
      "execution_count": 19,
      "outputs": []
    },
    {
      "cell_type": "code",
      "metadata": {
        "id": "XTdxUrLTXstK"
      },
      "source": [
        "def custom_data():\r\n",
        "  rows, columns = input(\"Enter the no of Rows and Columns\").split()\r\n",
        "  rows = int(rows)\r\n",
        "  cols = int(columns)"
      ],
      "execution_count": 9,
      "outputs": []
    },
    {
      "cell_type": "code",
      "metadata": {
        "id": "1V3CFPeQXxE0"
      },
      "source": [
        "def file_input():\r\n",
        "  file_name = input(\"Enter File name\")\r\n",
        "  df = pd.read_csv(file_name)\r\n",
        "  df.head(10)"
      ],
      "execution_count": 10,
      "outputs": []
    },
    {
      "cell_type": "code",
      "metadata": {
        "id": "Lx1-mDvfXbi8"
      },
      "source": [
        "def create_data():\r\n",
        "  print(\"Input the Data method for data Genration/Import\")\r\n",
        "  print(\"1 : Random Data\")\r\n",
        "  print(\"2 : Custom Data\")\r\n",
        "  print(\"3 : File Input\")\r\n",
        "  generation_type = input(\"Enter your choice\")\r\n",
        "  generation_type = int(generation_type)\r\n",
        "  if(generation_type == 1):\r\n",
        "    random_data()\r\n",
        "  elif(generation_type == 2):\r\n",
        "    custom_data()\r\n",
        "  elif(generation_type == 3):\r\n",
        "    file_input()"
      ],
      "execution_count": 3,
      "outputs": []
    },
    {
      "cell_type": "code",
      "metadata": {
        "colab": {
          "base_uri": "https://localhost:8080/"
        },
        "id": "ch3FUJYyaIr6",
        "outputId": "37975a62-dc8f-46e3-b735-04c58f418558"
      },
      "source": [
        "create_data()"
      ],
      "execution_count": 20,
      "outputs": [
        {
          "output_type": "stream",
          "text": [
            "Input the Data method for data Genration/Import\n",
            "1 : Random Data\n",
            "2 : Custom Data\n",
            "3 : File Input\n",
            "Enter your choice1\n",
            "Enter the no of Rows and Columns2 4\n",
            "2 4\n"
          ],
          "name": "stdout"
        }
      ]
    },
    {
      "cell_type": "code",
      "metadata": {
        "id": "JKMorZoAa9y5"
      },
      "source": [
        ""
      ],
      "execution_count": null,
      "outputs": []
    }
  ]
}